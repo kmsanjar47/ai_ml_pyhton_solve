{
  "nbformat": 4,
  "nbformat_minor": 0,
  "metadata": {
    "colab": {
      "provenance": []
    },
    "kernelspec": {
      "name": "python3",
      "display_name": "Python 3"
    },
    "language_info": {
      "name": "python"
    }
  },
  "cells": [
    {
      "cell_type": "markdown",
      "source": [
        "1. Write a program that swaps the values of two variables.\n",
        "2. Write a program that calculates the area of a rectangle given its length and width.\n",
        "3. Write a program that converts temperature from Fahrenheit to Celsius.\n",
        "4. Write a program that calculates the volume of a sphere given its radius.\n",
        "5. Write a program that finds the average of three numbers.\n"
      ],
      "metadata": {
        "id": "4Y4NMDvZip45"
      }
    },
    {
      "cell_type": "code",
      "execution_count": null,
      "metadata": {
        "colab": {
          "base_uri": "https://localhost:8080/"
        },
        "id": "frU7KlhLinnw",
        "outputId": "ee2da51e-2087-4c26-9846-e801dd11caca"
      },
      "outputs": [
        {
          "output_type": "stream",
          "name": "stdout",
          "text": [
            "Before: 1 2\n",
            "After: 2 1\n"
          ]
        }
      ],
      "source": [
        "#1\n",
        "v_one = 1\n",
        "v_two = 2\n",
        "print(\"Before:\",v_one,v_two)\n",
        "temp = v_one\n",
        "v_one = v_two\n",
        "v_two = temp\n",
        "print(\"After:\",v_one,v_two)"
      ]
    },
    {
      "cell_type": "code",
      "source": [
        "#2\n",
        "length = 12\n",
        "width = 10\n",
        "area = length * width\n",
        "print(f\"The area of the rectangle is: {area}\")"
      ],
      "metadata": {
        "colab": {
          "base_uri": "https://localhost:8080/"
        },
        "id": "mZ2XNvlVjITw",
        "outputId": "df5fa9e7-c001-4cd5-febf-583badb6b584"
      },
      "execution_count": null,
      "outputs": [
        {
          "output_type": "stream",
          "name": "stdout",
          "text": [
            "The area of the rectangle is: 120\n"
          ]
        }
      ]
    },
    {
      "cell_type": "code",
      "source": [
        "#3\n",
        "temp_in_f = 98\n",
        "temp_in_c = (temp_in_f-32)*(5/9)\n",
        "print(f\"Temp in C is: {temp_in_c} degree\")\n"
      ],
      "metadata": {
        "colab": {
          "base_uri": "https://localhost:8080/"
        },
        "id": "2M2yWiN4jISe",
        "outputId": "57dd1149-e6d9-42e9-de02-33e1e9830973"
      },
      "execution_count": null,
      "outputs": [
        {
          "output_type": "stream",
          "name": "stdout",
          "text": [
            "Temp in C is: 36.66666666666667 degree\n"
          ]
        }
      ]
    },
    {
      "cell_type": "code",
      "source": [
        "#4\n",
        "import math\n",
        "r = 4\n",
        "volume_of_sphere = (4/3) * math.pi * math.pow(r,3) #We can also use r**3 instead of math.pow()\n",
        "print(f\"Volume of sphere is: {volume_of_sphere}\")"
      ],
      "metadata": {
        "colab": {
          "base_uri": "https://localhost:8080/"
        },
        "id": "XTkqHEFKj-_t",
        "outputId": "1bd039b3-75f8-4c1d-e116-790384753145"
      },
      "execution_count": null,
      "outputs": [
        {
          "output_type": "stream",
          "name": "stdout",
          "text": [
            "Volume of sphere is: 268.082573106329\n"
          ]
        }
      ]
    },
    {
      "cell_type": "code",
      "source": [
        "#5\n",
        "num_one = 2\n",
        "num_two = 3\n",
        "num_three = 4\n",
        "avg = (num_one + num_two + num_three) / 3\n",
        "print(f\"Average of three numbers: {avg}\")"
      ],
      "metadata": {
        "colab": {
          "base_uri": "https://localhost:8080/"
        },
        "id": "aMcy8mBmk02P",
        "outputId": "b4da3cc9-161b-4d95-9a59-9726892d40ca"
      },
      "execution_count": null,
      "outputs": [
        {
          "output_type": "stream",
          "name": "stdout",
          "text": [
            "Average of three numbers: 3.0\n"
          ]
        }
      ]
    },
    {
      "cell_type": "markdown",
      "source": [
        "6. Write a program that determines if a number is even or odd.\n",
        "7. Write a program that finds the maximum of three numbers.\n",
        "8. Write a program that determines if a year is a leap year or not.\n",
        "9. Write a program that determines if a number is positive, negative, or zero.\n",
        "10. Write a program that calculates the grade based on a given percentage."
      ],
      "metadata": {
        "id": "-aNspdrFlgay"
      }
    },
    {
      "cell_type": "code",
      "source": [
        "#6\n",
        "number = 3\n",
        "if number % 2 == 0:\n",
        "  print(\"The number is even\")\n",
        "else:\n",
        "  print(\"The number is odd\")"
      ],
      "metadata": {
        "colab": {
          "base_uri": "https://localhost:8080/"
        },
        "id": "uKYm4ghzl4aP",
        "outputId": "677e7247-9123-476a-b871-4d8a8e5e9ef0"
      },
      "execution_count": null,
      "outputs": [
        {
          "output_type": "stream",
          "name": "stdout",
          "text": [
            "The number is odd\n"
          ]
        }
      ]
    },
    {
      "cell_type": "code",
      "source": [
        "#7\n",
        "number_one, number_two, number_three = 5,5,5\n",
        "if number_one > number_two and number_one > number_three:\n",
        "  print(\"Number one is the max number\")\n",
        "elif number_two > number_one and number_two > number_three:\n",
        "  print(\"Number two is the max number\")\n",
        "elif number_three > number_two and number_three > number_one:\n",
        "  print(\"Number three is the max number\")\n",
        "else:\n",
        "  if number_one == number_two and number_one > number_three:\n",
        "    print(\"Number one and number two equally is the max number\")\n",
        "  elif number_one == number_three and number_one > number_two:\n",
        "    print(\"Number one and number three equally is the max number\")\n",
        "  elif number_three == number_two and number_three > number_one:\n",
        "    print(\"Number two and number three equally is the max number\")\n",
        "  else:\n",
        "    print(\"All three numbers are equal\")"
      ],
      "metadata": {
        "colab": {
          "base_uri": "https://localhost:8080/"
        },
        "id": "d2HLkg-dmMa2",
        "outputId": "6d404663-131e-4bcd-ee00-8e4985c633d8"
      },
      "execution_count": null,
      "outputs": [
        {
          "output_type": "stream",
          "name": "stdout",
          "text": [
            "All three numbers are equal\n"
          ]
        }
      ]
    },
    {
      "cell_type": "code",
      "source": [
        "#8\n",
        "year = 1999\n",
        "if year % 4 == 0:\n",
        "  print(f\"{year} is a leap year\")\n",
        "else:\n",
        "  print(f\"{year} is not a leap year\")"
      ],
      "metadata": {
        "colab": {
          "base_uri": "https://localhost:8080/"
        },
        "id": "uI2R6uoYmMZ1",
        "outputId": "beb6c9dc-3c36-44df-b3f5-1cf3280a211a"
      },
      "execution_count": null,
      "outputs": [
        {
          "output_type": "stream",
          "name": "stdout",
          "text": [
            "1999 is not a leap year\n"
          ]
        }
      ]
    },
    {
      "cell_type": "code",
      "source": [
        "#9\n",
        "number = 0\n",
        "if number > 0:\n",
        "  print(f\"{number} is a positive number\")\n",
        "elif number < 0:\n",
        "  print(f\"{number} is a negative number\")\n",
        "else:\n",
        "  print(f\"The number is zero\")"
      ],
      "metadata": {
        "colab": {
          "base_uri": "https://localhost:8080/"
        },
        "id": "WjoytldLnWyg",
        "outputId": "285c7854-e1f5-4da0-cd90-26aaf1b87b92"
      },
      "execution_count": null,
      "outputs": [
        {
          "output_type": "stream",
          "name": "stdout",
          "text": [
            "The number is zero\n"
          ]
        }
      ]
    },
    {
      "cell_type": "code",
      "source": [
        "#10\n",
        "percentage = 30\n",
        "\n",
        "if percentage >= 90:\n",
        "  print(\"A+\")\n",
        "elif percentage >= 80:\n",
        "  print(\"A\")\n",
        "elif  percentage >= 70:\n",
        "  print(\"B\")\n",
        "elif  percentage >= 60:\n",
        "  print(\"C\")\n",
        "elif  percentage >= 50:\n",
        "  print(\"D\")\n",
        "elif  percentage >= 40:\n",
        "  print(\"E\")\n",
        "else:\n",
        "  print(\"You Failed\")\n"
      ],
      "metadata": {
        "colab": {
          "base_uri": "https://localhost:8080/"
        },
        "id": "JDHsQ-0En5Ir",
        "outputId": "b0c96c70-9a1e-46a6-f1ba-b95ab46b86e1"
      },
      "execution_count": null,
      "outputs": [
        {
          "output_type": "stream",
          "name": "stdout",
          "text": [
            "You Failed\n"
          ]
        }
      ]
    },
    {
      "cell_type": "markdown",
      "source": [
        "11. Write a program that prints the first `n` natural numbers.\n",
        "12. Write a program that calculates the factorial of a number.\n",
        "13. Write a program that generates a Fibonacci sequence of length `n`.\n",
        "14. Write a program that checks if a given number is prime or not.\n",
        "15. Write a program that prints the multiplication table of a given number."
      ],
      "metadata": {
        "id": "KouXlHv31K-c"
      }
    },
    {
      "cell_type": "code",
      "source": [
        "#11\n",
        "n = 8\n",
        "for n_number in range(n+1):\n",
        "  print(n_number)"
      ],
      "metadata": {
        "colab": {
          "base_uri": "https://localhost:8080/"
        },
        "id": "ljOj3oma1MRF",
        "outputId": "bd9da857-80f9-4aa3-f671-e827909c9c1a"
      },
      "execution_count": null,
      "outputs": [
        {
          "output_type": "stream",
          "name": "stdout",
          "text": [
            "0\n",
            "1\n",
            "2\n",
            "3\n",
            "4\n",
            "5\n",
            "6\n",
            "7\n",
            "8\n"
          ]
        }
      ]
    },
    {
      "cell_type": "code",
      "source": [
        "#12\n",
        "n = 3\n",
        "total = 1\n",
        "for i in range(1,n+1):\n",
        "\n",
        "  total *= i\n",
        "print(total)"
      ],
      "metadata": {
        "colab": {
          "base_uri": "https://localhost:8080/"
        },
        "id": "rL8KIE221wmt",
        "outputId": "97a4f5bb-e399-41d7-b01c-fbfb56715f06"
      },
      "execution_count": null,
      "outputs": [
        {
          "output_type": "stream",
          "name": "stdout",
          "text": [
            "6\n"
          ]
        }
      ]
    },
    {
      "cell_type": "code",
      "source": [
        "#13\n",
        "first = 0\n",
        "second = 1\n",
        "total = 0\n",
        "n = 10\n",
        "\n",
        "print(first, second, end = \" \")\n",
        "\n",
        "for i in range(2,n):\n",
        "  total = first + second\n",
        "  second, first = total, second\n",
        "  print(total, end=\" \")\n",
        "\n",
        "\n"
      ],
      "metadata": {
        "colab": {
          "base_uri": "https://localhost:8080/"
        },
        "id": "IcrSxZRb2fKM",
        "outputId": "0321affa-5194-494c-ea5d-1fb31b3bef90"
      },
      "execution_count": 31,
      "outputs": [
        {
          "output_type": "stream",
          "name": "stdout",
          "text": [
            "0 1 1 2 3 5 8 13 21 34 "
          ]
        }
      ]
    },
    {
      "cell_type": "code",
      "source": [
        "#14\n",
        "number = 2\n",
        "is_prime = True\n",
        "for i in range(2,number):\n",
        "  if number % i == 0:\n",
        "    is_prime = False\n",
        "\n",
        "\n",
        "print(\"Prime\") if is_prime is True else print(\"Not Prime\")"
      ],
      "metadata": {
        "colab": {
          "base_uri": "https://localhost:8080/"
        },
        "id": "-9rTWza4Atp9",
        "outputId": "9370714e-fe10-4305-d7ee-f046faf86bc9"
      },
      "execution_count": null,
      "outputs": [
        {
          "output_type": "stream",
          "name": "stdout",
          "text": [
            "Prime\n"
          ]
        }
      ]
    },
    {
      "cell_type": "code",
      "source": [
        "#15\n",
        "number = 3\n",
        "i = 0\n",
        "while i <= 11:\n",
        "  print(f\"{number} * {i} = {number * i}\")\n",
        "  i += 1"
      ],
      "metadata": {
        "colab": {
          "base_uri": "https://localhost:8080/"
        },
        "id": "SEi30kWMC7Qn",
        "outputId": "115c357f-067d-47c4-ec51-c4ad02714cdc"
      },
      "execution_count": 3,
      "outputs": [
        {
          "output_type": "stream",
          "name": "stdout",
          "text": [
            "3 * 0 = 0\n",
            "3 * 1 = 3\n",
            "3 * 2 = 6\n",
            "3 * 3 = 9\n",
            "3 * 4 = 12\n",
            "3 * 5 = 15\n",
            "3 * 6 = 18\n",
            "3 * 7 = 21\n",
            "3 * 8 = 24\n",
            "3 * 9 = 27\n",
            "3 * 10 = 30\n",
            "3 * 11 = 33\n"
          ]
        }
      ]
    },
    {
      "cell_type": "markdown",
      "source": [
        "16. Write a program that finds the sum of all even numbers between 1 and `n`.\n",
        "17. Write a program that reverses a given number.\n",
        "18. Write a program that checks if a given string is a palindrome.\n",
        "19. Write a program that generates a random number and allows the user to guess it.\n",
        "20. Write a program that finds the greatest common divisor (GCD) of two numbers."
      ],
      "metadata": {
        "id": "WR_t8Sp2DSVe"
      }
    },
    {
      "cell_type": "code",
      "source": [
        "#16\n",
        "n = 10\n",
        "sum = 0\n",
        "i = 1\n",
        "while i < n:\n",
        "  if i % 2 == 0:\n",
        "    sum += i\n",
        "  i += 1\n",
        "print(sum)"
      ],
      "metadata": {
        "colab": {
          "base_uri": "https://localhost:8080/"
        },
        "id": "pGbIQFNmDPCm",
        "outputId": "ba1b1bc3-aee6-4595-b31e-0155d3b16a13"
      },
      "execution_count": 5,
      "outputs": [
        {
          "output_type": "stream",
          "name": "stdout",
          "text": [
            "20\n"
          ]
        }
      ]
    },
    {
      "cell_type": "code",
      "source": [
        "#17\n",
        "n = 12\n",
        "n_str = str(n)\n",
        "i = len(n_str) - 1\n",
        "\n",
        "while i >= 0:\n",
        "  print(n_str[i],end=\"\")\n",
        "  i -= 1\n"
      ],
      "metadata": {
        "id": "amMK5ksYD268",
        "colab": {
          "base_uri": "https://localhost:8080/"
        },
        "outputId": "a797ae38-2781-4b98-a3f1-31574dbf22f6"
      },
      "execution_count": 7,
      "outputs": [
        {
          "output_type": "stream",
          "name": "stdout",
          "text": [
            "21"
          ]
        }
      ]
    },
    {
      "cell_type": "code",
      "source": [
        "#18\n",
        "n = 11211\n",
        "n_str = str(n)\n",
        "l_idx = 0\n",
        "r_idx = len(n_str) - 1\n",
        "is_palindrome = True\n",
        "\n",
        "while l_idx < r_idx:\n",
        "  if n_str[l_idx] != n_str[r_idx]:\n",
        "    is_palindrome = False\n",
        "  r_idx -= 1\n",
        "  l_idx += 1\n",
        "\n",
        "print(\"Palindrome\") if is_palindrome else print(\"Not Palindrome\")\n",
        "\n"
      ],
      "metadata": {
        "colab": {
          "base_uri": "https://localhost:8080/"
        },
        "id": "xfEp00XD692f",
        "outputId": "4cb4fb27-7f62-4162-bef6-ffcbe03f7eff"
      },
      "execution_count": 11,
      "outputs": [
        {
          "output_type": "stream",
          "name": "stdout",
          "text": [
            "Palindrome\n"
          ]
        }
      ]
    },
    {
      "cell_type": "code",
      "source": [
        "#19\n",
        "import random\n",
        "random_number = random.randint(1,10)\n",
        "total_chance = 5\n",
        "while total_chance != 0:\n",
        "  user_input = int(input(\"Guess the number between 1-10: \\n\"))\n",
        "  if user_input == random_number:\n",
        "    print(f\"Correct Guess!! You Won !! The correct number is {random_number}\")\n",
        "    break\n",
        "  else:\n",
        "    print(\"Number is lower than the guessed number\") if user_input > random_number else print(\"Number is greater than the guessed number\")\n",
        "    print(\"Incorrect guess!! Try Again\")\n",
        "    print(f\"Chances Left: {total_chance - 1}\")\n",
        "  total_chance -= 1"
      ],
      "metadata": {
        "colab": {
          "base_uri": "https://localhost:8080/"
        },
        "id": "-H60Utf_9ErC",
        "outputId": "270a94ea-7849-41c2-f30e-e8571c6d2986"
      },
      "execution_count": 19,
      "outputs": [
        {
          "output_type": "stream",
          "name": "stdout",
          "text": [
            "Guess the number between 1-10: \n",
            "5\n",
            "Number is greater than the guessed number\n",
            "Incorrect guess!! Try Again\n",
            "Chances Left: 4\n",
            "Guess the number between 1-10: \n",
            "6\n",
            "Correct Guess!! You Won !! The correct number is 6\n"
          ]
        }
      ]
    },
    {
      "cell_type": "code",
      "source": [
        "p = x = 20\n",
        "q = y = 25\n",
        "while x != y:\n",
        "  if x > y:\n",
        "    x = x - y\n",
        "  else:\n",
        "    y = y - x\n",
        "\n",
        "print(\"GCD of\", p, \"and\", q, \"is:\", x)"
      ],
      "metadata": {
        "colab": {
          "base_uri": "https://localhost:8080/"
        },
        "id": "KWwdBQOm_a-l",
        "outputId": "3998ad53-e9c4-472d-bead-163308fbfaa2"
      },
      "execution_count": 32,
      "outputs": [
        {
          "output_type": "stream",
          "name": "stdout",
          "text": [
            "GCD of 20 and 25 is: 5\n"
          ]
        }
      ]
    }
  ]
}